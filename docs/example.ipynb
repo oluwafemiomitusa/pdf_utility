{
 "cells": [
  {
   "cell_type": "markdown",
   "metadata": {},
   "source": [
    "# PDF Utility Examples\n",
    "\n",
    "This notebook demonstrates how to use the `pdf_utility` package to combine PDF files."
   ]
  },
  {
   "cell_type": "markdown",
   "metadata": {},
   "source": [
    "## Basic Usage\n",
    "\n",
    "First, let's import the package:"
   ]
  },
  {
   "cell_type": "code",
   "execution_count": null,
   "metadata": {},
   "source": [
    "from pdf_utility import combine_pdfs"
   ]
  },
  {
   "cell_type": "markdown",
   "metadata": {},
   "source": [
    "### Example 1: Combining PDFs\n",
    "\n",
    "Here's a basic example of combining PDF files:"
   ]
  },
  {
   "cell_type": "code",
   "execution_count": null,
   "metadata": {},
   "source": [
    "# Define input and output paths\n",
    "input_folder = \"example_pdfs\"\n",
    "output_folder = \"output\"\n",
    "output_name = \"combined.pdf\"\n",
    "\n",
    "# List of PDFs to combine\n",
    "files_to_combine = [\"file1.pdf\", \"file2.pdf\", \"file3.pdf\"]\n",
    "\n",
    "# Combine the PDFs\n",
    "combine_pdfs(input_folder, output_folder, output_name, files_to_combine)"
   ]
  },
  {
   "cell_type": "markdown",
   "metadata": {},
   "source": [
    "### Example 2: Error Handling\n",
    "\n",
    "The function handles various error cases gracefully:"
   ]
  },
  {
   "cell_type": "code",
   "execution_count": null,
   "metadata": {},
   "source": [
    "# Trying to combine non-existent files\n",
    "non_existent_files = [\"doesnt_exist.pdf\"]\n",
    "combine_pdfs(input_folder, output_folder, \"error_test.pdf\", non_existent_files)"
   ]
  },
  {
   "cell_type": "markdown",
   "metadata": {},
   "source": [
    "### Example 3: Working with Nested Directories\n",
    "\n",
    "The function automatically creates output directories if they don't exist:"
   ]
  },
  {
   "cell_type": "code",
   "execution_count": null,
   "metadata": {},
   "source": [
    "# Using nested output directory\n",
    "nested_output = \"output/nested/subfolder\"\n",
    "combine_pdfs(input_folder, nested_output, output_name, files_to_combine)"
   ]
  },
  {
   "cell_type": "markdown",
   "metadata": {},
   "source": [
    "## Best Practices\n",
    "\n",
    "1. Always use full file names including the .pdf extension\n",
    "2. Make sure you have read permissions for input files\n",
    "3. Make sure you have write permissions for the output directory\n",
    "4. Check that input files exist before combining"
   ]
  }
 ],
 "metadata": {
  "kernelspec": {
   "display_name": "Python 3",
   "language": "python",
   "name": "python3"
  },
  "language_info": {
   "codemirror_mode": {
    "name": "ipython",
    "version": 3
   },
   "file_extension": ".py",
   "mimetype": "text/x-python",
   "name": "python",
   "nbconvert_exporter": "python",
   "pygments_lexer": "ipython3",
   "version": "3.12"
  }
 },
 "nbformat": 4,
 "nbformat_minor": 4
}
